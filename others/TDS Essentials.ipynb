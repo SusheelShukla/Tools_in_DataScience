{
 "cells": [
  {
   "cell_type": "markdown",
   "id": "b381c905",
   "metadata": {},
   "source": [
    "Note: If some modules causes installation error then copy that module installation command put it to next cell without exclamation mark and then run the cell to get it installed"
   ]
  },
  {
   "cell_type": "code",
   "execution_count": null,
   "id": "2b74be39",
   "metadata": {
    "scrolled": false
   },
   "outputs": [],
   "source": [
    "# Necessary installations\n",
    "!pip install beautifulsoup4\n",
    "!pip install requests\n",
    "!pip install -U pandas\n",
    "!pip install numpy\n",
    "!pip install tabula-py\n",
    "!pip install JPype1\n",
    "!pip install geopandas\n",
    "!pip install geopy\n",
    "!pip install -U pyarrow"
   ]
  },
  {
   "cell_type": "code",
   "execution_count": null,
   "id": "5f669bab",
   "metadata": {},
   "outputs": [],
   "source": [
    "pip install geopandas"
   ]
  },
  {
   "cell_type": "code",
   "execution_count": null,
   "id": "b330837a",
   "metadata": {
    "scrolled": true
   },
   "outputs": [],
   "source": [
    "# Necessary Imports\n",
    "import os\n",
    "import pprint\n",
    "import pandas as pd\n",
    "import numpy as np\n",
    "import requests\n",
    "from bs4 import BeautifulSoup\n",
    "import json\n",
    "import tabula\n",
    "import jpype\n",
    "from urllib.parse import urlparse,urlencode\n",
    "import re\n",
    "from datetime import datetime\n",
    "# import the nominatim library\n",
    "from geopy.geocoders import Nominatim"
   ]
  },
  {
   "cell_type": "code",
   "execution_count": null,
   "id": "8060a874",
   "metadata": {
    "scrolled": true
   },
   "outputs": [],
   "source": [
    "url=\"https://en.wikipedia.org/wiki/Magadha\""
   ]
  },
  {
   "cell_type": "code",
   "execution_count": null,
   "id": "d392c621",
   "metadata": {
    "scrolled": true
   },
   "outputs": [],
   "source": [
    "data=requests.get(url)\n",
    "data"
   ]
  },
  {
   "cell_type": "code",
   "execution_count": null,
   "id": "be980edd",
   "metadata": {
    "scrolled": true
   },
   "outputs": [],
   "source": [
    "# More Parsers are \"html.parser\",\"lxml\",\"lxml-xml\", \"html5lib\"\n",
    "\n",
    "soup=BeautifulSoup(data.content,'html.parser')\n",
    "soup"
   ]
  },
  {
   "cell_type": "markdown",
   "id": "c4f858f9",
   "metadata": {},
   "source": [
    "# HTML Scrapping\n",
    "\n",
    "# Find Method\n",
    "`soup.find`= It gives first element\n",
    "\n",
    "`soup.find_all`= it will give all elements"
   ]
  },
  {
   "cell_type": "code",
   "execution_count": null,
   "id": "77b65c5c",
   "metadata": {
    "scrolled": true
   },
   "outputs": [],
   "source": [
    "# Get Very First Anchor tag\n",
    "soup.find(\"a\")"
   ]
  },
  {
   "cell_type": "code",
   "execution_count": null,
   "id": "7f0e04ee",
   "metadata": {
    "scrolled": true
   },
   "outputs": [],
   "source": [
    "# Get Very All Anchor tag\n",
    "soup.find_all(\"a\")"
   ]
  },
  {
   "cell_type": "code",
   "execution_count": null,
   "id": "d135daa8",
   "metadata": {
    "scrolled": true
   },
   "outputs": [],
   "source": [
    "# Find First Table\n",
    "\n",
    "soup.find(\"table\")"
   ]
  },
  {
   "cell_type": "code",
   "execution_count": null,
   "id": "a4e69b5b",
   "metadata": {
    "scrolled": true
   },
   "outputs": [],
   "source": [
    "# find all tables \n",
    "soup.find_all(\"table\")"
   ]
  },
  {
   "cell_type": "code",
   "execution_count": null,
   "id": "443bb4ee",
   "metadata": {
    "scrolled": true
   },
   "outputs": [],
   "source": [
    "# No of tables here\n",
    "len(soup.find_all(\"table\"))"
   ]
  },
  {
   "cell_type": "code",
   "execution_count": null,
   "id": "7d0ecaba",
   "metadata": {
    "scrolled": true
   },
   "outputs": [],
   "source": [
    "# Get the Text of links\n",
    "\n",
    "\n",
    "# Step 1 : Get Very First Anchor tag\n",
    "# Step 2 : use `.text` to get the innertext of the link\n",
    "print(soup.find(\"a\"))\n",
    "print(soup.find(\"a\").text)"
   ]
  },
  {
   "cell_type": "code",
   "execution_count": null,
   "id": "d5f09ed9",
   "metadata": {
    "scrolled": true
   },
   "outputs": [],
   "source": [
    "# Similarly we can do for all\n",
    "for i in soup.find_all(\"a\"):\n",
    "    print(i.text)"
   ]
  },
  {
   "cell_type": "code",
   "execution_count": null,
   "id": "c91360d2",
   "metadata": {
    "scrolled": true
   },
   "outputs": [],
   "source": [
    "# Find Elements By Class\n",
    "soup(\"span\",{'class':\"mw-headline\"})"
   ]
  },
  {
   "cell_type": "code",
   "execution_count": null,
   "id": "eabb7640",
   "metadata": {
    "scrolled": true
   },
   "outputs": [],
   "source": [
    "# Find Elements By Class and id\n",
    "soup(\"span\",{'class':\"mw-headline\",'id':\"Geography\"})"
   ]
  },
  {
   "cell_type": "code",
   "execution_count": null,
   "id": "2ee70261",
   "metadata": {
    "scrolled": true
   },
   "outputs": [],
   "source": [
    "# Find All tags using Class\n",
    "soup(class_=\"mw-headline\")"
   ]
  },
  {
   "cell_type": "code",
   "execution_count": null,
   "id": "5f23cd24",
   "metadata": {
    "scrolled": true
   },
   "outputs": [],
   "source": []
  },
  {
   "cell_type": "code",
   "execution_count": null,
   "id": "9e7a3ebf",
   "metadata": {
    "scrolled": true
   },
   "outputs": [],
   "source": []
  },
  {
   "cell_type": "markdown",
   "id": "83d4873a",
   "metadata": {},
   "source": [
    "# Login With Cookies"
   ]
  },
  {
   "cell_type": "code",
   "execution_count": null,
   "id": "7791053e",
   "metadata": {
    "scrolled": true
   },
   "outputs": [],
   "source": [
    "url=\"https://movielens.org/home\""
   ]
  },
  {
   "cell_type": "code",
   "execution_count": null,
   "id": "53d104c6",
   "metadata": {},
   "outputs": [],
   "source": [
    "# Enter your cookies"
   ]
  },
  {
   "cell_type": "code",
   "execution_count": null,
   "id": "e0e20a0f",
   "metadata": {
    "scrolled": true
   },
   "outputs": [],
   "source": [
    "cookie={\n",
    "    \"Enter your cookies here \"\n",
    "\n",
    "}"
   ]
  },
  {
   "cell_type": "code",
   "execution_count": null,
   "id": "3ae62ac3",
   "metadata": {
    "scrolled": true
   },
   "outputs": [],
   "source": [
    "response=requests.get(url,cookies=cookie)"
   ]
  },
  {
   "cell_type": "code",
   "execution_count": null,
   "id": "01874e8e",
   "metadata": {
    "scrolled": true
   },
   "outputs": [],
   "source": [
    "response"
   ]
  },
  {
   "cell_type": "code",
   "execution_count": null,
   "id": "60fe2358",
   "metadata": {
    "scrolled": true
   },
   "outputs": [],
   "source": [
    "response.text\n",
    "\n"
   ]
  },
  {
   "cell_type": "code",
   "execution_count": null,
   "id": "0397b2e9",
   "metadata": {
    "scrolled": true
   },
   "outputs": [],
   "source": [
    "# headers = {\n",
    "#     'User-Agent': 'Mozilla/5.0 (Macintosh; Intel Mac OS X 10_15_7) AppleWebKit/537.36 (KHTML, like Gecko) Chrome/108.0.0.0 Safari/537.36',\n",
    "# }"
   ]
  },
  {
   "cell_type": "code",
   "execution_count": null,
   "id": "d9aeffa1",
   "metadata": {
    "scrolled": true
   },
   "outputs": [],
   "source": [
    "def get_soup(url,cookie):\n",
    "    data=requests.get(url,cookies=cookie)\n",
    "    return data"
   ]
  },
  {
   "cell_type": "code",
   "execution_count": null,
   "id": "fb484296",
   "metadata": {
    "scrolled": true
   },
   "outputs": [],
   "source": [
    "data=get_soup(url,cookie)"
   ]
  },
  {
   "cell_type": "code",
   "execution_count": null,
   "id": "9b7b05f6",
   "metadata": {
    "scrolled": true
   },
   "outputs": [],
   "source": [
    "data"
   ]
  },
  {
   "cell_type": "code",
   "execution_count": null,
   "id": "969abe28",
   "metadata": {
    "scrolled": true
   },
   "outputs": [],
   "source": [
    "data.content"
   ]
  },
  {
   "cell_type": "code",
   "execution_count": null,
   "id": "809c54e5",
   "metadata": {
    "scrolled": true
   },
   "outputs": [],
   "source": [
    "soup=BeautifulSoup(data.content,'html.parser')"
   ]
  },
  {
   "cell_type": "code",
   "execution_count": null,
   "id": "711f22a6",
   "metadata": {
    "scrolled": true
   },
   "outputs": [],
   "source": [
    "soup"
   ]
  },
  {
   "cell_type": "markdown",
   "id": "43d7db3b",
   "metadata": {},
   "source": [
    "## Movie Lens Website"
   ]
  },
  {
   "cell_type": "code",
   "execution_count": null,
   "id": "563a90b5",
   "metadata": {},
   "outputs": [],
   "source": [
    "# Your Cookies should be replaced here"
   ]
  },
  {
   "cell_type": "code",
   "execution_count": null,
   "id": "335d8464",
   "metadata": {
    "scrolled": true
   },
   "outputs": [],
   "source": [
    "\n",
    "\n",
    "# The URL you want to scrape\n",
    "url = \"https://movielens.org/api/users/me/frontpage\"  # Replace with the actual URL you're trying to access\n",
    "\n",
    "# The cookies you provided\n",
    "cookies = {\n",
    "'Your Cookies should be go here'\n",
    "}\n",
    "headers = {\n",
    "    'User-Agent': 'Mozilla/5.0 (Linux; Android 6.0; Nexus 5 Build/MRA58N) AppleWebKit/537.36 (KHTML, like Gecko) Chrome/126.0.0.0 Mobile Safari/537.36',\n",
    "}\n",
    "# Make a GET request to the URL with the cookies\n",
    "response = requests.get(url, cookies=cookies,headers=headers)\n",
    "\n",
    "# Check if the request was successful\n",
    "if response.status_code == 200:\n",
    "  # Parse the HTML content\n",
    "  soup = BeautifulSoup(response.content, 'html.parser')\n",
    "  print(soup)\n",
    "  "
   ]
  },
  {
   "cell_type": "code",
   "execution_count": null,
   "id": "e8bde98f",
   "metadata": {
    "scrolled": true
   },
   "outputs": [],
   "source": [
    "\n",
    "a=json.loads(response.text)"
   ]
  },
  {
   "cell_type": "code",
   "execution_count": null,
   "id": "fed95532",
   "metadata": {
    "scrolled": true
   },
   "outputs": [],
   "source": [
    "a['data']['listOfSearchResults'][0]['searchResults']"
   ]
  },
  {
   "cell_type": "code",
   "execution_count": null,
   "id": "e57c0140",
   "metadata": {
    "scrolled": true
   },
   "outputs": [],
   "source": [
    "for i in range(len(a['data']['listOfSearchResults'][0]['searchResults'][0])):\n",
    "    print(a['data']['listOfSearchResults'][i]['searchResults'][0]['movie']['title'])"
   ]
  },
  {
   "cell_type": "code",
   "execution_count": null,
   "id": "01ad1214",
   "metadata": {
    "scrolled": true
   },
   "outputs": [],
   "source": []
  },
  {
   "cell_type": "markdown",
   "id": "ae32e802",
   "metadata": {},
   "source": [
    "# Parquet File"
   ]
  },
  {
   "cell_type": "code",
   "execution_count": null,
   "id": "f946cd12",
   "metadata": {},
   "outputs": [],
   "source": [
    "pip install pyarrow"
   ]
  },
  {
   "cell_type": "code",
   "execution_count": null,
   "id": "38c764a1",
   "metadata": {
    "scrolled": true
   },
   "outputs": [],
   "source": [
    "# if error comes then it will be most probably the reason that pyarrow module is not installed\n",
    "df = pd.read_parquet('flights.parquet')"
   ]
  },
  {
   "cell_type": "code",
   "execution_count": null,
   "id": "e1571398",
   "metadata": {},
   "outputs": [],
   "source": [
    "df"
   ]
  },
  {
   "cell_type": "code",
   "execution_count": null,
   "id": "248a3de2",
   "metadata": {},
   "outputs": [],
   "source": [
    "df['HOUR']=df.SCHEDULED_DEPARTURE.apply(lambda x: int(x))"
   ]
  },
  {
   "cell_type": "code",
   "execution_count": null,
   "id": "c6cf7c00",
   "metadata": {},
   "outputs": [],
   "source": [
    "df['MINUTES']=df.SCHEDULED_DEPARTURE.apply(lambda x: int((x-int(x))*60))"
   ]
  },
  {
   "cell_type": "code",
   "execution_count": null,
   "id": "803cd84e",
   "metadata": {},
   "outputs": [],
   "source": [
    "df"
   ]
  },
  {
   "cell_type": "markdown",
   "id": "fd736714",
   "metadata": {},
   "source": [
    "# Find Correlation"
   ]
  },
  {
   "cell_type": "code",
   "execution_count": null,
   "id": "8bbf9120",
   "metadata": {},
   "outputs": [],
   "source": [
    "pcorr= df.corr(method='pearson')\n",
    "pcorr"
   ]
  },
  {
   "cell_type": "code",
   "execution_count": null,
   "id": "b78bf4ad",
   "metadata": {},
   "outputs": [],
   "source": []
  },
  {
   "cell_type": "markdown",
   "id": "71455c89",
   "metadata": {},
   "source": [
    "# Sentiment Analysis"
   ]
  },
  {
   "cell_type": "markdown",
   "id": "94e2e5c8",
   "metadata": {},
   "source": [
    "## using OPENAI_KEY"
   ]
  },
  {
   "cell_type": "code",
   "execution_count": null,
   "id": "12cd1477",
   "metadata": {},
   "outputs": [],
   "source": [
    "import json\n",
    "\n",
    "def get_sentiment(review, debug=False):\n",
    "    response = requests.post(\n",
    "        \"https://api.openai.com/v1/chat/completions\",\n",
    "        headers={\"Authorization\": f\"Bearer {api_key}\"},\n",
    "        json={\n",
    "            \"model\": \"gpt-4o\",\n",
    "            \"messages\": [\n",
    "                {\"role\": \"system\", \"content\": \"Identify the sentiment of the movie. JUST say positive / negative\"},\n",
    "                {\"role\": \"user\", \"content\": review}\n",
    "            ]\n",
    "        }\n",
    "    )\n",
    "    result = response.json()\n",
    "    answer = result[\"choices\"][0][\"message\"][\"content\"]\n",
    "    print(answer)\n",
    "    return answer\n",
    "review=\"I am Superman\"\n",
    "# print(reviews.review.iloc[3])\n",
    "get_sentiment(review, debug=True)"
   ]
  },
  {
   "cell_type": "markdown",
   "id": "e9703c89",
   "metadata": {},
   "source": [
    "## using AIPROXY_KEY"
   ]
  },
  {
   "cell_type": "code",
   "execution_count": null,
   "id": "34a0acba",
   "metadata": {},
   "outputs": [],
   "source": [
    "AIPROXY_KEY=\"\""
   ]
  },
  {
   "cell_type": "code",
   "execution_count": null,
   "id": "af9332f2",
   "metadata": {},
   "outputs": [],
   "source": [
    "import json\n",
    "\n",
    "def get_sentiment(review, debug=False):\n",
    "    response = requests.post(\n",
    "        'https://aiproxy.sanand.workers.dev/openai/v1/models',\n",
    "        headers={\"Authorization\": f\"Bearer {AIPROXY_KEY}\"},\n",
    "        json={\n",
    "            \"model\": \"gpt-3.5-turbo\",\n",
    "            \"messages\": [\n",
    "                {\"role\": \"system\", \"content\": \"Identify the sentiment of the sentense. JUST say positive / negative\"},\n",
    "                {\"role\": \"user\", \"content\": review}\n",
    "            ]\n",
    "        }\n",
    "    )\n",
    "    result = response.json()\n",
    "    answer = result[\"choices\"][0][\"message\"][\"content\"]\n",
    "    print(answer)\n",
    "    return answer\n",
    "review=\"I am Superman\"\n",
    "# print(reviews.review.iloc[3])\n",
    "get_sentiment(review, debug=True)"
   ]
  },
  {
   "cell_type": "markdown",
   "id": "dbbd7cb9",
   "metadata": {},
   "source": [
    "## Cosine Similarity of two words"
   ]
  },
  {
   "cell_type": "code",
   "execution_count": null,
   "id": "3c7b2fb7",
   "metadata": {},
   "outputs": [],
   "source": [
    "import numpy as np\n",
    "import requests\n",
    "import json\n",
    "from google.colab import userdata\n",
    "model_name= input(\"Enter the Model Name : \")\n",
    "word1=input(\"Enter Word 1 : \")\n",
    "word2=input(\"Enter word 2 : \")\n",
    "embeddings = {}\n",
    "words = [word1, word2]\n",
    "\n",
    "api_key = AIPROXY_KEY\n",
    "PROXY_URL = 'https://aiproxy.sanand.workers.dev/openai/'\n",
    "url = f\"{PROXY_URL}v1/embeddings\"\n",
    "headers = {\n",
    "    \"Authorization\": f\"Bearer {api_key}\",\n",
    "    \"Content-Type\": \"application/json\"\n",
    "}\n",
    "data = {\n",
    "    \"input\": words,\n",
    "    \"model\": model_name,\n",
    "    \"encoding_format\": \"float\"\n",
    "}\n",
    "\n",
    "response = requests.post(url, headers=headers, data=json.dumps(data))\n",
    "\n",
    "\n",
    "for word, embedding in zip(words, response.json()['data']):\n",
    "    embeddings[word] = np.array(embedding['embedding'])\n",
    "\n",
    "print(\"===================Answer==================\")\n",
    "print()\n",
    "print(\"Your answer is \")\n",
    "np.dot(embeddings[words[0]], embeddings[words[1]])"
   ]
  },
  {
   "cell_type": "markdown",
   "id": "4b4c9ec0",
   "metadata": {},
   "source": [
    "### Cost of generating Tokens for gpt-3.5-turbo-0125 model, if cost per million input token is 50 cents"
   ]
  },
  {
   "cell_type": "code",
   "execution_count": null,
   "id": "8ff45cb7",
   "metadata": {},
   "outputs": [],
   "source": [
    "!pip install tiktoken"
   ]
  },
  {
   "cell_type": "code",
   "execution_count": null,
   "id": "730acac1",
   "metadata": {},
   "outputs": [],
   "source": [
    "import tiktoken\n",
    "def num_tokens_from_string(string: str, encoding_name: str) -> int:\n",
    "    encoding = tiktoken.encoding_for_model(encoding_name)\n",
    "    num_tokens = len(encoding.encode(string))\n",
    "    return num_tokens\n",
    "\n",
    "input_text = input(\" Enter the Text : \")\n",
    "model_name=input(\"Enter the Model Name : \")\n",
    "cost_per_million_tokens_cent = 50\n",
    "tokens = num_tokens_from_string(input_text, model_name)\n",
    "total_cost_cent = (tokens / 1_000_000) * cost_per_million_tokens_cent\n",
    "total_cost_cent"
   ]
  },
  {
   "cell_type": "markdown",
   "id": "64a85eed",
   "metadata": {},
   "source": [
    "## Getting Embedding of the word"
   ]
  },
  {
   "cell_type": "code",
   "execution_count": null,
   "id": "e813f990",
   "metadata": {},
   "outputs": [],
   "source": [
    "import json\n",
    "import requests\n",
    "from google.colab import userdata\n",
    "from datetime import datetime\n",
    "model=input(\"Enter the Model name : \")\n",
    "api_key = AIPROXY_KEY\n",
    "PROXY_URL = 'https://aiproxy.sanand.workers.dev/openai/'\n",
    "\n",
    "word = input(\"Enter the Word (it will be in bold text in Question ): \")\n",
    "\n",
    "\n",
    "url = f\"{PROXY_URL}v1/embeddings\"\n",
    "headers = {\n",
    "    \"Authorization\": f\"Bearer {api_key}\",\n",
    "    \"Content-Type\": \"application/json\"\n",
    "}\n",
    "data = {\n",
    "    \"input\": word,\n",
    "    \"model\": model,\n",
    "    \"encoding_format\": \"float\"\n",
    "}\n",
    "\n",
    "response = requests.post(url, headers=headers, data=json.dumps(data))\n",
    "embeddings = response.json()['data'][0]['embedding']"
   ]
  },
  {
   "cell_type": "code",
   "execution_count": null,
   "id": "d10607a5",
   "metadata": {},
   "outputs": [],
   "source": []
  },
  {
   "cell_type": "code",
   "execution_count": null,
   "id": "5c90b0e9",
   "metadata": {},
   "outputs": [],
   "source": []
  },
  {
   "cell_type": "code",
   "execution_count": null,
   "id": "87860b5e",
   "metadata": {},
   "outputs": [],
   "source": []
  },
  {
   "cell_type": "code",
   "execution_count": null,
   "id": "e818c1de",
   "metadata": {},
   "outputs": [],
   "source": []
  },
  {
   "cell_type": "markdown",
   "id": "f9460e31",
   "metadata": {},
   "source": [
    "# API PART\n",
    "-   ### Pokemon API"
   ]
  },
  {
   "cell_type": "code",
   "execution_count": null,
   "id": "2a714fc1",
   "metadata": {
    "scrolled": true
   },
   "outputs": [],
   "source": [
    "url=\"https://pokeapi.co/api/v2/pokemon/paras\""
   ]
  },
  {
   "cell_type": "code",
   "execution_count": null,
   "id": "17495636",
   "metadata": {
    "scrolled": true
   },
   "outputs": [],
   "source": [
    "response=requests.get(url)"
   ]
  },
  {
   "cell_type": "code",
   "execution_count": null,
   "id": "4039d3eb",
   "metadata": {
    "scrolled": true
   },
   "outputs": [],
   "source": [
    "response"
   ]
  },
  {
   "cell_type": "code",
   "execution_count": null,
   "id": "78d9eabc",
   "metadata": {
    "scrolled": true
   },
   "outputs": [],
   "source": [
    "r=json.loads(response.text)"
   ]
  },
  {
   "cell_type": "code",
   "execution_count": null,
   "id": "75e34daa",
   "metadata": {
    "scrolled": true
   },
   "outputs": [],
   "source": [
    "r"
   ]
  },
  {
   "cell_type": "code",
   "execution_count": null,
   "id": "1f2752d9",
   "metadata": {
    "scrolled": true
   },
   "outputs": [],
   "source": [
    "# pprint.pprint(r)"
   ]
  },
  {
   "cell_type": "code",
   "execution_count": null,
   "id": "bdcdec95",
   "metadata": {
    "scrolled": true
   },
   "outputs": [],
   "source": [
    "# r['moves'][0]['version_group_details']"
   ]
  },
  {
   "cell_type": "code",
   "execution_count": null,
   "id": "4a48ff2e",
   "metadata": {
    "scrolled": true
   },
   "outputs": [],
   "source": [
    "def get_moves(pokemon,version):\n",
    "    url=f\"https://pokeapi.co/api/v2/pokemon/{pokemon}\"\n",
    "    response=requests.get(url)\n",
    "    data=response.json()\n",
    "    \n",
    "    moves=set()\n",
    "    for move in data['moves']:\n",
    "        for version_group in move['version_group_details']:\n",
    "            if version_group['version_group']['name']==version:\n",
    "                moves.add(move['move']['name'])\n",
    "    return moves"
   ]
  },
  {
   "cell_type": "code",
   "execution_count": null,
   "id": "f42ddea4",
   "metadata": {
    "scrolled": true
   },
   "outputs": [],
   "source": [
    "poke1_f1_moves=get_moves('paras','omega-ruby-alpha-sapphire')"
   ]
  },
  {
   "cell_type": "code",
   "execution_count": null,
   "id": "5276f869",
   "metadata": {
    "scrolled": true
   },
   "outputs": [],
   "source": [
    "poke1_f1_moves"
   ]
  },
  {
   "cell_type": "code",
   "execution_count": null,
   "id": "62951eaa",
   "metadata": {
    "scrolled": true
   },
   "outputs": [],
   "source": [
    "poke2_f1_moves=get_moves('diglett','omega-ruby-alpha-sapphire')\n",
    "poke2_f1_moves"
   ]
  },
  {
   "cell_type": "code",
   "execution_count": null,
   "id": "13bead27",
   "metadata": {
    "scrolled": true
   },
   "outputs": [],
   "source": [
    "Different_moves=poke1_f1_moves-poke2_f1_moves"
   ]
  },
  {
   "cell_type": "code",
   "execution_count": null,
   "id": "ecb58643",
   "metadata": {
    "scrolled": true
   },
   "outputs": [],
   "source": [
    "len(Different_moves)"
   ]
  },
  {
   "cell_type": "code",
   "execution_count": null,
   "id": "71627b4e",
   "metadata": {
    "scrolled": true
   },
   "outputs": [],
   "source": []
  },
  {
   "cell_type": "code",
   "execution_count": null,
   "id": "8fe85b20",
   "metadata": {},
   "outputs": [],
   "source": []
  },
  {
   "cell_type": "markdown",
   "id": "38875d16",
   "metadata": {},
   "source": [
    "# PDF SCRAPPING"
   ]
  },
  {
   "cell_type": "code",
   "execution_count": null,
   "id": "1b40589c",
   "metadata": {},
   "outputs": [],
   "source": [
    "dfs=list()\n",
    "for i in range(1,28):\n",
    "    page=str(i)\n",
    "    df=tabula.read_pdf('ga2.9.pdf',pages=page)\n",
    "    dfs+=df\n",
    "dataset=pd.concat(dfs,ignore_index=True)\n",
    "dataset"
   ]
  },
  {
   "cell_type": "code",
   "execution_count": null,
   "id": "60a694a0",
   "metadata": {},
   "outputs": [],
   "source": [
    "dataset.info()"
   ]
  },
  {
   "cell_type": "code",
   "execution_count": null,
   "id": "5212b395",
   "metadata": {},
   "outputs": [],
   "source": [
    "df_phy=dataset[dataset['Physics']>=39]\n",
    "df_phy['English'].sum()"
   ]
  },
  {
   "cell_type": "code",
   "execution_count": null,
   "id": "642d3b17",
   "metadata": {},
   "outputs": [],
   "source": []
  },
  {
   "cell_type": "code",
   "execution_count": null,
   "id": "438aad45",
   "metadata": {},
   "outputs": [],
   "source": []
  },
  {
   "cell_type": "code",
   "execution_count": null,
   "id": "216729cd",
   "metadata": {},
   "outputs": [],
   "source": []
  },
  {
   "cell_type": "markdown",
   "id": "cdeb51e4",
   "metadata": {},
   "source": [
    "# BBC WEATHER"
   ]
  },
  {
   "cell_type": "code",
   "execution_count": null,
   "id": "73e51c5c",
   "metadata": {},
   "outputs": [],
   "source": []
  },
  {
   "cell_type": "code",
   "execution_count": null,
   "id": "8edec61d",
   "metadata": {},
   "outputs": [],
   "source": [
    "# Function to fetch Location id\n",
    "def getlocid(city):\n",
    "    test_city=city.lower()\n",
    "    location_url='https://locator-service.api.bbci.co.uk/locations?'+urlencode({\n",
    "      'api_key':  'AGbFAKx58hyjQScCXIYrxuEwJh2W2cmv',\n",
    "        's':test_city,\n",
    "        'stack':'aws',\n",
    "        'locale': 'en',\n",
    "        'filter':'international',\n",
    "        'place-types':'settlement,Cairport,Cdistrict',\n",
    "        'order':'importance',\n",
    "        'a':'true',\n",
    "        'format':'json'\n",
    "    })\n",
    "    result=requests.get(location_url).json()\n",
    "    locid=result['response']['results']['results'][0]['id']\n",
    "    return locid"
   ]
  },
  {
   "cell_type": "code",
   "execution_count": null,
   "id": "b7a84c04",
   "metadata": {},
   "outputs": [],
   "source": [
    "getlocid('New york')"
   ]
  },
  {
   "cell_type": "code",
   "execution_count": null,
   "id": "3eabb593",
   "metadata": {},
   "outputs": [],
   "source": [
    "url = 'https://www.bbc.com/weather/'+result['response']['results']['results'][0]['id']\n",
    "response = requests.get(url)\n",
    "soup = BeautifulSoup(response.content,'html.parser')"
   ]
  },
  {
   "cell_type": "code",
   "execution_count": null,
   "id": "6b46e2f3",
   "metadata": {},
   "outputs": [],
   "source": [
    "daily_high_values = soup.find_all('span', attrs={'class': 'wr-day-temperature__high-value'}) # block-type: span; identifier type: class; and class name: wr-day-temperature__high-value\n",
    "daily_high_values"
   ]
  },
  {
   "cell_type": "code",
   "execution_count": null,
   "id": "92aa835a",
   "metadata": {},
   "outputs": [],
   "source": [
    "daily_high_values_list = [daily_high_values[i].text.strip().split()[0] for i in range(len(daily_high_values))]\n",
    "daily_high_values_list"
   ]
  },
  {
   "cell_type": "code",
   "execution_count": null,
   "id": "a195c68c",
   "metadata": {},
   "outputs": [],
   "source": [
    "daily_low_values  = soup.find_all('span', attrs={'class': 'wr-day-temperature__low-value'})\n",
    "daily_low_values_list = [daily_low_values[i].text.strip().split()[0] for i in range(len(daily_low_values))]\n",
    "daily_low_values_list"
   ]
  },
  {
   "cell_type": "code",
   "execution_count": null,
   "id": "a372ba4f",
   "metadata": {},
   "outputs": [],
   "source": [
    "daily_summary = soup.find('div', attrs={'class': 'wr-day-summary'})\n",
    "daily_summary"
   ]
  },
  {
   "cell_type": "code",
   "execution_count": null,
   "id": "3a527dee",
   "metadata": {},
   "outputs": [],
   "source": [
    "daily_summary_list = re.findall('[a-zA-Z][^A-Z]*', daily_summary.text) #split the string on uppercase\n",
    "daily_summary_list"
   ]
  },
  {
   "cell_type": "code",
   "execution_count": null,
   "id": "0fe58013",
   "metadata": {},
   "outputs": [],
   "source": [
    "datelist = pd.date_range(datetime.today(), periods=len(daily_high_values)).tolist()\n",
    "datelist = [datelist[i].date().strftime('%y-%m-%d') for i in range(len(datelist))]\n",
    "datelist"
   ]
  },
  {
   "cell_type": "code",
   "execution_count": null,
   "id": "7d31828e",
   "metadata": {},
   "outputs": [],
   "source": [
    "zipped = zip(datelist, daily_high_values_list, daily_low_values_list, daily_summary_list)\n",
    "df = pd.DataFrame(list(zipped), columns=['Date', 'High','Low', 'Summary'])\n",
    "df"
   ]
  },
  {
   "cell_type": "code",
   "execution_count": null,
   "id": "401a0b80",
   "metadata": {},
   "outputs": [],
   "source": [
    "# remove the 'degree' character\n",
    "df.High = df.High.replace('\\°','',regex=True).astype(float)\n",
    "df.Low  = df.Low.replace('\\°','',regex=True).astype(float)\n",
    "df"
   ]
  },
  {
   "cell_type": "code",
   "execution_count": null,
   "id": "dde2a07a",
   "metadata": {},
   "outputs": [],
   "source": [
    "# For saving this DF to A CSV run this \n",
    "location = soup.find('h1', attrs={'id':'wr-location-name-id'})\n",
    "filename_csv = location.text.split()[0]+'.csv'\n",
    "df.to_csv(filename_csv, index=None)"
   ]
  },
  {
   "cell_type": "code",
   "execution_count": null,
   "id": "b13cced8",
   "metadata": {},
   "outputs": [],
   "source": [
    "def City_weather(city_name):\n",
    "    # Function to fetch Location id\n",
    "    test_city=city_name.lower()\n",
    "    location_url='https://locator-service.api.bbci.co.uk/locations?'+urlencode({\n",
    "      'api_key':  'AGbFAKx58hyjQScCXIYrxuEwJh2W2cmv',\n",
    "        's':test_city,\n",
    "        'stack':'aws',\n",
    "        'locale': 'en',\n",
    "        'filter':'international',\n",
    "        'place-types':'settlement,Cairport,Cdistrict',\n",
    "        'order':'importance',\n",
    "        'a':'true',\n",
    "        'format':'json'\n",
    "    })\n",
    "    result=requests.get(location_url).json()\n",
    "    locid=result['response']['results']['results'][0]['id']\n",
    "    url = 'https://www.bbc.com/weather/'+result['response']['results']['results'][0]['id']\n",
    "    response = requests.get(url)\n",
    "    soup = BeautifulSoup(response.content,'html.parser')\n",
    "    \n",
    "    # Daily High values List\n",
    "    daily_high_values = soup.find_all('span', attrs={'class': 'wr-day-temperature__high-value'}) # block-type: span; identifier type: class; and class name: wr-day-temperature__high-value\n",
    "    daily_high_values_list = [daily_high_values[i].text.strip().split()[0] for i in range(len(daily_high_values))]\n",
    "    \n",
    "    # Daily Low Values List\n",
    "    daily_low_values  = soup.find_all('span', attrs={'class': 'wr-day-temperature__low-value'})\n",
    "    daily_low_values_list = [daily_low_values[i].text.strip().split()[0] for i in range(len(daily_low_values))]\n",
    "    \n",
    "    # Daily Summary List\n",
    "    daily_summary = soup.find('div', attrs={'class': 'wr-day-summary'})\n",
    "    daily_summary_list = re.findall('[a-zA-Z][^A-Z]*', daily_summary.text) #split the string on uppercase\n",
    "    \n",
    "    # Date List from today to 14 days\n",
    "    datelist = pd.date_range(datetime.today(), periods=len(daily_high_values)).tolist()\n",
    "    datelist = [datelist[i].date().strftime('%y-%m-%d') for i in range(len(datelist))]\n",
    "    \n",
    "    # Convert to DataFrame\n",
    "    zipped = zip(datelist, daily_high_values_list, daily_low_values_list, daily_summary_list)\n",
    "    df = pd.DataFrame(list(zipped), columns=['Date', 'High','Low', 'Summary'])\n",
    "    \n",
    "    return df\n",
    "    \n",
    "    \n",
    "    "
   ]
  },
  {
   "cell_type": "code",
   "execution_count": null,
   "id": "8d1c59d8",
   "metadata": {},
   "outputs": [],
   "source": [
    "# Change City name to get the weather detail of 14 days\n",
    "City_weather(\"New york\")"
   ]
  },
  {
   "cell_type": "code",
   "execution_count": null,
   "id": "f831b82f",
   "metadata": {},
   "outputs": [],
   "source": [
    "df=City_weather(\"New york\")"
   ]
  },
  {
   "cell_type": "markdown",
   "id": "ce336916",
   "metadata": {},
   "source": [
    "# Nominatim API\n"
   ]
  },
  {
   "cell_type": "code",
   "execution_count": null,
   "id": "15499635",
   "metadata": {},
   "outputs": [],
   "source": [
    "# activate nominatim geocoder\n",
    "# NOTE: replace \"myGeoCoder\" with your email ID if you get a HTTP Error 403.\n",
    "locator = Nominatim(user_agent=\"myGeocoder\")\n",
    "\n",
    "# type any address text\n",
    "location = locator.geocode(\"Champ de Mars, Paris, France\")\n",
    "# print lattitude and longitude of the address\n",
    "print(\"Latitude = {}, Longitude = {}\".format(location.latitude, location.longitude))"
   ]
  },
  {
   "cell_type": "code",
   "execution_count": null,
   "id": "1987dffe",
   "metadata": {},
   "outputs": [],
   "source": [
    "# The API output has multiple other details as a json like altitude, lattitude, longitude, correct raw addres, etc.\n",
    "# Print all the informaton\n",
    "location.raw,location.point,location.longitude,location.latitude,location.altitude,location.address"
   ]
  },
  {
   "cell_type": "code",
   "execution_count": null,
   "id": "f2d316ba",
   "metadata": {},
   "outputs": [],
   "source": [
    "# Try another address\n",
    "location2 = locator.geocode(\"Nagoya, Japan\")\n",
    "# Print all the informaton\n",
    "location2.raw,location2.point,location2.longitude,location2.latitude,location2.altitude,location2.address"
   ]
  },
  {
   "cell_type": "code",
   "execution_count": null,
   "id": "6f3ed527",
   "metadata": {},
   "outputs": [],
   "source": [
    "location2.raw"
   ]
  },
  {
   "cell_type": "code",
   "execution_count": null,
   "id": "a413f9ca",
   "metadata": {},
   "outputs": [],
   "source": []
  },
  {
   "cell_type": "markdown",
   "id": "0ff1c16c",
   "metadata": {},
   "source": [
    "# Pandas Profiling"
   ]
  },
  {
   "cell_type": "code",
   "execution_count": null,
   "id": "1c0fa7d8",
   "metadata": {},
   "outputs": [],
   "source": [
    "pip install ydata-profiling"
   ]
  },
  {
   "cell_type": "code",
   "execution_count": null,
   "id": "889426c5",
   "metadata": {},
   "outputs": [],
   "source": [
    "from ydata_profiling import ProfileReport"
   ]
  },
  {
   "cell_type": "code",
   "execution_count": null,
   "id": "0f22b318",
   "metadata": {},
   "outputs": [],
   "source": [
    "profile = ProfileReport(df, title=\"Profiling Report\")\n"
   ]
  },
  {
   "cell_type": "code",
   "execution_count": null,
   "id": "c5c476a8",
   "metadata": {},
   "outputs": [],
   "source": [
    "profile.to_file(\"output.html\")"
   ]
  },
  {
   "cell_type": "code",
   "execution_count": null,
   "id": "ed371dc5",
   "metadata": {},
   "outputs": [],
   "source": []
  },
  {
   "cell_type": "code",
   "execution_count": null,
   "id": "06d9ceac",
   "metadata": {},
   "outputs": [],
   "source": []
  },
  {
   "cell_type": "code",
   "execution_count": null,
   "id": "2ad75f87",
   "metadata": {},
   "outputs": [],
   "source": []
  },
  {
   "cell_type": "code",
   "execution_count": null,
   "id": "987681a4",
   "metadata": {},
   "outputs": [],
   "source": []
  },
  {
   "cell_type": "code",
   "execution_count": null,
   "id": "db51cc87",
   "metadata": {},
   "outputs": [],
   "source": []
  },
  {
   "cell_type": "code",
   "execution_count": null,
   "id": "10433af3",
   "metadata": {},
   "outputs": [],
   "source": []
  },
  {
   "cell_type": "code",
   "execution_count": null,
   "id": "bb5a21f6",
   "metadata": {},
   "outputs": [],
   "source": []
  },
  {
   "cell_type": "code",
   "execution_count": null,
   "id": "979a286a",
   "metadata": {},
   "outputs": [],
   "source": []
  },
  {
   "cell_type": "code",
   "execution_count": null,
   "id": "09e498f1",
   "metadata": {},
   "outputs": [],
   "source": []
  },
  {
   "cell_type": "code",
   "execution_count": null,
   "id": "b9a15930",
   "metadata": {},
   "outputs": [],
   "source": []
  },
  {
   "cell_type": "code",
   "execution_count": null,
   "id": "9a35e068",
   "metadata": {},
   "outputs": [],
   "source": []
  }
 ],
 "metadata": {
  "kernelspec": {
   "display_name": "Python 3 (ipykernel)",
   "language": "python",
   "name": "python3"
  },
  "language_info": {
   "codemirror_mode": {
    "name": "ipython",
    "version": 3
   },
   "file_extension": ".py",
   "mimetype": "text/x-python",
   "name": "python",
   "nbconvert_exporter": "python",
   "pygments_lexer": "ipython3",
   "version": "3.9.18"
  }
 },
 "nbformat": 4,
 "nbformat_minor": 5
}
