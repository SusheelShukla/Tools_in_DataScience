{
 "cells": [
  {
   "cell_type": "markdown",
   "metadata": {},
   "source": [
    "# TDS Week2 Notebook"
   ]
  },
  {
   "cell_type": "markdown",
   "metadata": {},
   "source": [
    "\n",
    "Before you do any kind of data science, you obviously have to get the data to be able to analyze it, visualize it, narrate it, and deploy it. And what we are going to cover in this module is how you get the data.\n",
    "\n",
    "There are three ways you can get the data.\n",
    "\n",
    "The first is you can <strong>download</strong> the data. Either somebody gives you the data and says download it from here, or you are asked to download it from the internet because it's a public data source. But that's the first way—you download the data.<br>\n",
    "\n",
    "The second way is you can query it from somewhere. It may be on a database. It may be available through an API. It may be available through a library. But these are ways in which you can selectively query parts of the data and stitch it together.<br>\n",
    "The third way is you have to scrape it. It's not directly available in a convenient form that you can query or download. But it is, in fact, on a web page. It's available on a PDF file. It's available in a Word document. It's available on an Excel file. It's kind of structured, but you will have to figure out that structure and extract it from there.<br>\n",
    "In this module, we will be looking at the tools that will help you either download from a data source or query from an API or from a database or from a library. And finally, how you can scrape from different sources.\n",
    "\n",
    "Here are links used in the video:\n",
    "\n",
    "[The Movies Dataset](https://www.kaggle.com/datasets/rounakbanik/the-movies-dataset) <br>\n",
    "[IMDb Datasets](https://imdb.com/interfaces/)<br>\n",
    "[Download the IMDb Datasets](https://datasets.imdbws.com/)<br>\n",
    "[Explore the Internet Movie Database](https://gramener.com/imdb/)<br>\n",
    "[What does the world search for?](https://gramener.com/search/)<br>\n",
    "[HowStat - Cricket statistics](http://howstat.com/cricket/home.asp)<br>\n",
    "[Cricket Strike Rates](https://gramener.com/cricket/)<br>"
   ]
  },
  {
   "cell_type": "markdown",
   "metadata": {},
   "source": [
    "# Scraping with Excel"
   ]
  },
  {
   "cell_type": "markdown",
   "metadata": {},
   "source": [
    "You'll learn how to [import tables on the web using Excel](https://support.microsoft.com/en-au/office/import-data-from-the-web-b13eed81-33fe-410d-9247-1747269c28e4), covering:\n",
    "\n",
    "- **Data Import from Web:** Use the query feature in Excel to scrape data from websites.\n",
    "- **Establishing Web Connections:** Connect Excel to a web page using a URL.\n",
    "- **Using Query Editor:** Navigate the query editor to view and manage web data tables.\n",
    "- **Loading Data:** Load data from the web into Excel for further manipulation.\n",
    "- **Data Transformation:** Remove unnecessary columns and transform data as needed.\n",
    "- **Applying Transformations:** Track applied steps in the sequence for reproducibility.\n",
    "- **Refreshing Data:** Refresh the imported data to get the latest updates from the web.<br>\n",
    "Here are links used in the video:\n",
    "\n",
    "- [Chennai Weather Forecast](https://www.timeanddate.com/weather/india/chennai/ext)\n",
    "- [Excel Scraping Workbook](./downloded_worksheet/excel-scraping.xlsx)\n",
    "\n",
    "If you use Excel on Mac, the process is a bit different. See [Importing External Data Into Excel on Mac](https://www.youtube.com/watch?v=PuqVoVNWF20)."
   ]
  },
  {
   "cell_type": "markdown",
   "metadata": {},
   "source": [
    "You'll learn how to [import tables on the web using Google Sheets's =IMPORTHTML()](https://support.google.com/docs/answer/3093339?hl=en) formula, covering:\n",
    "\n",
    "- **Import HTML Formula:** Use =IMPORTHTML(URL, \"query\", index) to fetch tables or lists from a web page.\n",
    "- **Granting Access:** Allow access for formulas to fetch data from external sources.\n",
    "- **Checking Imported Data:** Verify if the imported table matches the data on the web page.\n",
    "- **Handling Errors:** Understand common issues and how to resolve them.\n",
    "- **Sorting Data:** Copy imported data as values and sort it within Google Sheets.\n",
    "- **Freezing Rows:** Use frozen rows to maintain headers while sorting.\n",
    "- **Live Formulas:** Learn how web data updates automatically when the source changes.\n",
    "- **Other Import Functions:** *IMPORTXML, IMPORTFEED, IMPORTRANGE, and IMPORTDATA* for advanced data fetching options.\n",
    "Here are links used in the video:\n",
    "\n",
    "    [Google sheet used in the video](./downloded_worksheet/Scraping%20with%20Google%20Sheets.xlsx)<br>\n",
    "    [IMPORTHTML()](https://support.google.com/docs/answer/3093339)<br>\n",
    "    [IMPORTXML()](https://support.google.com/docs/answer/3093342)<br>\n",
    "    [Demographics of India](https://en.wikipedia.org/wiki/Demographics_of_India)\n",
    "    [List of highest grossing Indian films](https://en.wikipedia.org/wiki/List_of_highest-grossing_Indian_films)"
   ]
  },
  {
   "cell_type": "markdown",
   "metadata": {},
   "source": [
    "# BBC Weather location ID with Python"
   ]
  },
  {
   "cell_type": "markdown",
   "metadata": {},
   "source": [
    "You'll learn how to get the location ID of any city from the BBC Weather API -- as a precursor to scraping weather data -- covering:\n",
    "\n",
    "- **Understanding API Calls:** Learn how backend API calls work when searching for a city on the BBC weather website.\n",
    "- **Inspecting Web Interactions:** Use the browser's inspect element feature to track API calls and understand the network activity.\n",
    "- **Extracting Location IDs:** Identify and extract the location ID from the API response using Python.\n",
    "- **Using Python Libraries:** Import and use requests, json, and urlencode libraries to make API calls and process responses.\n",
    "- **Constructing API URLs:** Create structured API URLs dynamically with constant prefixes and query parameters using urlencode.\n",
    "- **Building Functions:** Develop a Python function that accepts a city name, constructs the API call, and returns the location ID.\n",
    "To open the browser Developer Tools on Chrome, Edge, or Firefox, you can:\n",
    "\n",
    "Right-click on the page and select \"Inspect\" to open the developer tools\n",
    "- OR: Press ```F12```\n",
    "- OR: Press ```Ctrl+Shift+I``` on Windows\n",
    "- OR: Press ```Cmd+Opt+I``` on Mac\n",
    "\n",
    "Here are links and references:\n",
    "\n",
    "- [BBC Location ID scraping - Notebook](./bbc-weather-location-id-scarping.ipynb)\n",
    "- [BBC Weather - Palo Alto (location ID: 5380748)](https://www.bbc.com/weather/5380748)\n",
    "- [BBC Locator Service - Los Angeles](https://locator-service.api.bbci.co.uk/locations?api_key=AGbFAKx58hyjQScCXIYrxuEwJh2W2cmv&stack=aws&locale=en&filter=international&place-types=settlement%2Cairport%2Cdistrict&order=importance&s=los%20angeles&a=true&format=json)\n",
    "- Learn about the [requests package](https://docs.python-requests.org/en/latest/user/quickstart/).<br>\n",
    "  - **Watch** [Python Requests Tutorial: Request Web Pages, Download Images, POST Data, Read JSON, and More](https://www.youtube.com/watch?v=tb8gHvYlCFs)"
   ]
  },
  {
   "cell_type": "markdown",
   "metadata": {},
   "source": [
    "# BBC Weather data with Python"
   ]
  },
  {
   "cell_type": "markdown",
   "metadata": {},
   "source": [
    "You'll learn how to scrape the live weather data of a city from the BBC Weather API, covering:\n",
    "\n",
    "- **Introduction to Web Scraping:** Understand the basics of web scraping and its legality.\n",
    "- **Libraries Overview:** Learn the importance of [requests](https://docs.python-requests.org/en/latest/user/install/#install) and [BeautifulSoup](https://beautiful-soup-4.readthedocs.io/en/latest/#installing-beautiful-soup).\n",
    "- **Fetching HTML:** Use requests to fetch HTML content from a web page.\n",
    "- Parsing HTML: Utilize BeautifulSoup to parse and navigate the HTML content.\n",
    "- **Identifying Data:** Inspect HTML elements to locate specific data (e.g., high and low temperatures).\n",
    "- **Extracting Data:** Extract relevant data using BeautifulSoup's find_all() function.\n",
    "- **Data Cleanup:** Clean extracted data to remove unwanted elements.\n",
    "Post-Processing: Use regular expressions to split large strings into meaningful parts.\n",
    "- **Data Structuring:** Combine extracted data into a structured pandas DataFrame.\n",
    "- **Handling Special Characters:** Replace unwanted characters for better data manipulation.\n",
    "- **Saving Data:** Save the cleaned data into CSV and Excel formats.\n",
    "\n",
    "Here are links and references:\n",
    "\n",
    "- [BBC Weather scraping - Notebook](./bbc_weather_scraping.ipynb)\n",
    "- [BBC Weather - Mumbai (location ID: 1275339)](https://www.bbc.com/weather/1275339)\n",
    "- [BBC Locator Service - Mumbai](https://locator-service.api.bbci.co.uk/locations?api_key=AGbFAKx58hyjQScCXIYrxuEwJh2W2cmv&stack=aws&locale=en&filter=international&place-types=settlement%2Cairport%2Cdistrict&order=importance&s=mumbai&a=true&format=json)\n",
    "- Learn about the [json package](https://docs.python.org/3/library/json.html).\n",
    "  - [Watch Python Tutorial: Working with JSON Data using the json Module](https://www.youtube.com/watch?v=9N6a-VLBa2I&feature=youtu.be)\n",
    "- Learn about the BeautifulSoup package.\n",
    "  - [Watch Python Tutorial: Web Scraping with BeautifulSoup and Requests](https://www.youtube.com/watch?v=ng2o98k983k&feature=youtu.be)\n",
    "- Learn about the [pandas package](https://pandas.pydata.org/pandas-docs/stable/user_guide/10min.html).\n",
    "  -  Watch\n",
    "    - [Python Pandas Tutorial (Part 1): Getting Started with Data Analysis - Installation and Loading Data](https://youtu.be/ZyhVh-qRZPA)\n",
    "    - [Python Pandas Tutorial (Part 2): DataFrame and Series Basics - Selecting Rows and Columns](https://youtu.be/zmdjNSmRXF4)\n",
    "- Learn about the [re package](https://docs.python.org/3/library/re.html). \n",
    "  - [Watch Python Tutorial: re Module - How to Write and Match Regular Expressions (Regex)](https://youtu.be/K8L6KVGG-7o)\n",
    "- Learn about the [datetime package](https://docs.python.org/3/library/datetime.html).\n",
    "  - [Watch Python Tutorial: Datetime Module - How to work with Dates, Times, Timedeltas, and Timezones](https://youtu.be/eirjjyP2qcQ)"
   ]
  },
  {
   "cell_type": "markdown",
   "metadata": {},
   "source": [
    "# Scraping the IMDb with Browser JavaScript"
   ]
  },
  {
   "cell_type": "markdown",
   "metadata": {},
   "source": [
    "You'll learn how to scrape the [IMDb Top 250 movies](https://www.imdb.com/chart/top/?ref_=nv_mv_250) directly in the browser using JavaScript on the Chrome DevTools, covering:\n",
    "\n",
    "- **Access Developer Tools:** Use `F12` or `right-click` > Inspect to open developer tools in Chrome or Edge.\n",
    "- **Inspect Elements:** Identify and inspect HTML elements using the Elements tab.\n",
    "- **Query Selectors:** Use `document.querySelectorAll` and `document.querySelector` to find elements by CSS class.\n",
    "- **Extract Text Content:** Retrieve text content from elements using JavaScript.\n",
    "- **Functional Programming:** Apply [map](https://developer.mozilla.org/en-US/docs/Web/JavaScript/Reference/Global_Objects/Array/map) and [arrow functions](https://developer.mozilla.org/en-US/docs/Web/JavaScript/Reference/Functions/Arrow_functions) for concise data processing.\n",
    "- **Data Structuring:** Collect and format data into an array of arrays.\n",
    "Copying Data: Use the copy function to transfer data to the clipboard.\n",
    "- **Convert to Spreadsheet:** Use online tools to convert JSON data to CSV or Excel format.\n",
    "- **Text Manipulation:** Perform text splitting and cleaning in Excel for final data formatting.\n",
    "\n",
    "Here are links and references:\n",
    "\n",
    "- [IMDB Top 250 movies](https://www.imdb.com/chart/top/?ref_=nv_mv_250)\n",
    "- [Learn about Chrome Devtools](https://developer.chrome.com/docs/devtools/overview/)"
   ]
  },
  {
   "cell_type": "markdown",
   "metadata": {},
   "source": [
    "# Nominatim API with Python"
   ]
  },
  {
   "cell_type": "markdown",
   "metadata": {},
   "source": [
    "You'll learn how to get the latitude and longitude of any city from the Nominatim API.\n",
    "\n",
    "- **Introduction to Nominatim:** Understand how Nominatim, from OpenStreetMap, works similarly to Google Maps for geocoding.\n",
    "- **Installation and Import:** Learn to install and import [geopy](https://geopy.readthedocs.io/en/stable/) and nominatim.\n",
    "- **Using the Locator:** Create a locator object using Nominatim and set up a user agent.\n",
    "- **Geocoding an Address:** Use `locator.geocode` to input an address (e.g., Eiffel Tower) and fetch geocoded data.\n",
    "- **Extracting Data:** Access detailed information like latitude, longitude, bounding box, and accurate address from the JSON response.\n",
    "- **Classifying Locations:** Identify the type of place (e.g., tourism, university) using the response data.\n",
    "- **Practical Example:** Geocode \"IIT Madras\" and retrieve its full address, type (university), and other relevant information.\n",
    "\n",
    "Here are links and references:\n",
    "\n",
    "- [Geocoding using Nominatim - Notebook](./geocoding_using_nominatim.ipynb)\n",
    "- Learn about the [geocoders module in the geopy package](https://geopy.readthedocs.io/en/stable/)\n",
    "- [Learn about the nominatim package](https://nominatim.org/release-docs/develop/api/Overview/)\n",
    "- If you get a HTTP Error 403 from Nominatim, use your email ID or your name instead of \"myGeocoder\" in `Nominatim(user_agent=\"myGeocoder\")`\n"
   ]
  },
  {
   "cell_type": "code",
   "execution_count": 1,
   "metadata": {},
   "outputs": [
    {
     "name": "stdout",
     "output_type": "stream",
     "text": [
      "Collecting geopy\n",
      "  Obtaining dependency information for geopy from https://files.pythonhosted.org/packages/e5/15/cf2a69ade4b194aa524ac75112d5caac37414b20a3a03e6865dfe0bd1539/geopy-2.4.1-py3-none-any.whl.metadata\n",
      "  Downloading geopy-2.4.1-py3-none-any.whl.metadata (6.8 kB)\n",
      "Collecting geographiclib<3,>=1.52 (from geopy)\n",
      "  Obtaining dependency information for geographiclib<3,>=1.52 from https://files.pythonhosted.org/packages/9f/5a/a26132406f1f40cf51ea349a5f11b0a46cec02a2031ff82e391c2537247a/geographiclib-2.0-py3-none-any.whl.metadata\n",
      "  Downloading geographiclib-2.0-py3-none-any.whl.metadata (1.4 kB)\n",
      "Downloading geopy-2.4.1-py3-none-any.whl (125 kB)\n",
      "   ---------------------------------------- 0.0/125.4 kB ? eta -:--:--\n",
      "   ---------------------------------------- 125.4/125.4 kB 3.7 MB/s eta 0:00:00\n",
      "Downloading geographiclib-2.0-py3-none-any.whl (40 kB)\n",
      "   ---------------------------------------- 0.0/40.3 kB ? eta -:--:--\n",
      "   ---------------------------------------- 40.3/40.3 kB ? eta 0:00:00\n",
      "Installing collected packages: geographiclib, geopy\n",
      "Successfully installed geographiclib-2.0 geopy-2.4.1\n",
      "Note: you may need to restart the kernel to use updated packages.\n"
     ]
    },
    {
     "name": "stderr",
     "output_type": "stream",
     "text": [
      "\n",
      "[notice] A new release of pip is available: 23.2.1 -> 24.1.2\n",
      "[notice] To update, run: python.exe -m pip install --upgrade pip\n"
     ]
    }
   ],
   "source": [
    "# %pip install geopy"
   ]
  },
  {
   "cell_type": "markdown",
   "metadata": {},
   "source": [
    "# Wikipedia data with Wikimedia Python library"
   ]
  },
  {
   "cell_type": "markdown",
   "metadata": {},
   "source": [
    "You'll learn how to scrape data from Wikipedia using the wikipedia Python library, covering:\n",
    "\n",
    "- **Installing and Importing:** Use pip install to get the Wikipedia library and import it with import wikipedia as wk.\n",
    "- **Keyword Search:** Use the search function to find Wikipedia pages containing a specific keyword, limiting results with the results argument.\n",
    "- **Fetching Summaries:** Use the summary function to get a concise summary of a Wikipedia page, limiting sentences with the sentences argument.\n",
    "- **Retrieving Full Pages:** Use the page function to obtain the full content of a Wikipedia page, including sections and references.\n",
    "Accessing URLs: Retrieve the URL of a Wikipedia page using the url attribute of the page object.\n",
    "- **Extracting References:** Use the references attribute to get all reference links from a Wikipedia page.\n",
    "- **Fetching Images:** Access all images on a Wikipedia page via the images attribute, which returns a list of image URLs.\n",
    "- **Extracting Tables:** Use the pandas.read_html function to extract tables from the HTML content of a Wikipedia page, being mindful of table indices.\n",
    "\n",
    "Here are links and references:\n",
    "\n",
    "- [Wikipedia Library - Notebook](./wikipedia_library.ipynb)\n",
    "- Learn about the [wikipedia package](https://wikipedia.readthedocs.io/en/latest/)\n",
    "\n",
    "NOTE: Wikipedia is constantly edited. The page may be different now from when the video was recorded. Handle accordingly."
   ]
  },
  {
   "cell_type": "markdown",
   "metadata": {},
   "source": [
    "# Scrape PDFs with Tabula Python library"
   ]
  },
  {
   "cell_type": "markdown",
   "metadata": {},
   "source": [
    "You'll learn how to scrape tables from PDFs using the tabula Python library, covering:\n",
    "\n",
    "- **Import Libraries:** Use Beautiful Soup for URL parsing and Tabula for extracting tables from PDFs.\n",
    "- **Specify Save Location:** Mount Google Drive to save scraped PDFs.\n",
    "- **Identify PDF URLs:** Parse the given URL to identify and select all PDF links.\n",
    "- **Download PDFs:** Loop through identified links, saving each PDF to the specified location.\n",
    "- **Extract Tables:** Use Tabula to read tabular content from the downloaded PDFs.\n",
    "- **Control Extraction Area:** Specify page and area coordinates to accurately extract tables, avoiding extraneous text.\n",
    "- **Save Extracted Data:** Convert the extracted table data into structured formats like CSV for further analysis.\n",
    "\n",
    "Here are links and references:\n",
    "\n",
    "- [PDF Scraping - Notebook](./pdf_scraping.ipynb)\n",
    "- Learn about the [tabula package](https://tabula-py.readthedocs.io/en/latest/getting_started.html)\n",
    "- Learn about the pandas package. [Video](https://www.youtube.com/watch?v=vmEHCJofslg&feature=youtu.be)"
   ]
  },
  {
   "cell_type": "markdown",
   "metadata": {},
   "source": [
    "# Optional: Real-life scraping"
   ]
  },
  {
   "cell_type": "markdown",
   "metadata": {},
   "source": [
    "\n",
    "In this live scraping session, we explore a real-life scenario where Straive had to scrape data from emarketer.com for a demo. This is a fairly realistic and representative way of how one might go about scraping a website.\n",
    "\n",
    "You'll learn:\n",
    "\n",
    "- **Scraping:** How to extract data from web pages, including constructing URLs, fetching page content, and parsing HTML using packages like [lxml](https://lxml.de/installation.html) and [httpx](https://www.python-httpx.org/).\n",
    "- **Caching:** Implementing a caching strategy to avoid redundant data fetching for efficiency and reliability.\n",
    "- **Error Handling and Debugging:** Practical tips for troubleshooting, such as using liberal print statements, breakpoints for in-depth debugging, and the concept of \"rubber duck debugging\" to clarify problems.\n",
    "- **LLMs:** Benefits of Gemini / ChatGPT for code suggestions and troubleshooting.\n",
    "- **Real-World Application:** How quick proofs of concept to showcase capabilities to clients, emphasizing practice over theory.\n"
   ]
  },
  {
   "cell_type": "markdown",
   "metadata": {},
   "source": [
    "# Optional: Live session recordings"
   ]
  },
  {
   "cell_type": "markdown",
   "metadata": {},
   "source": [
    "## Reference and helpful content\n",
    "\n",
    "-For those who don't know HTML, CSS, or JavaScript, this [FreeCodeCamp Responsive Web Design course](https://www.freecodecamp.org/learn/2022/responsive-web-design/) is a good starting point.\n",
    "- For those who don't know Python, this L[earn Python video](https://www.youtube.com/watch?v=rfscVS0vtbw&feature=youtu.be) and this [Python for Beginners](https://www.youtube.com/playlist?list=PLsyeobzWxl7poL9JTVyndKe62ieoN-MZ3) playlist is a good starting point.\n",
    "- Few More Scraping tools\n",
    " 1. [About Scrapy & Chrome Web Scraper Extension (Video)](./contract.docx)\n",
    " 2. [Chrome Web Scraper Extension (Video)](https://www.youtube.com/watch?v=aClnnoQK9G0)\n",
    "\n",
    "## Sample questions\n",
    "\n",
    "- Read the [Hacker News API](https://github.com/HackerNews/API) docs. Now, when was the post with ID 2921983 posted? Specifically, What is the timestamp? (ANS: 1314211127)\n",
    "- Using [PokeAPI](https://pokeapi.co/), in the `sun-moon` version, find out how many moves `ivysaur` has that `bulbasaur` does not. (ANS: 1: leech-seed).\n",
    "- How many images (`<img>` tags) does this [White House page](https://web.archive.org/web/20110101070603id_/https://www.whitehouse.gov/) snapshot have inside a link (`<a>`element)? (ANS: 15)\n",
    "- What is the westernmost point (highest longitude) on the bounding box of `Baghdad, Iraq`, according to the Nominatim API? If there are multiple matches, get the highest longitude across all bounding boxes. (ANS: 44.969°E)\n",
    "- What CSS selector would you use to extract the last list element with a class highlight from an unordered list? (ANS: `ul li.highlight:last-child`)"
   ]
  }
 ],
 "metadata": {
  "kernelspec": {
   "display_name": ".venv",
   "language": "python",
   "name": "python3"
  },
  "language_info": {
   "codemirror_mode": {
    "name": "ipython",
    "version": 3
   },
   "file_extension": ".py",
   "mimetype": "text/x-python",
   "name": "python",
   "nbconvert_exporter": "python",
   "pygments_lexer": "ipython3",
   "version": "3.11.5"
  }
 },
 "nbformat": 4,
 "nbformat_minor": 2
}
