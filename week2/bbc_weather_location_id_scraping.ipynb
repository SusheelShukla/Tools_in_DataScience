{
  "cells": [
    {
      "cell_type": "markdown",
      "metadata": {
        "id": "WsVuzd8zBh1h"
      },
      "source": [
        "# A tutorial to scrape the location ID of any city in BBC Weather.\n",
        "\n",
        "This code snippet takes city name as input and it hits the BBC Weather API with a request for location ID. This location ID is used as input in the next part of the code to scrape weather forecast for the city using this location ID.  \n",
        "\n",
        "*Web scraping might not be legal always. It is a good idea to check the terms of the website you plan to scrape before proceeding. Also, if your code requests a url from a server multiple times, it is a good practice to either cache your requests, or insert a timed delay between consecutive requests.*"
      ]
    },
    {
      "cell_type": "code",
      "execution_count": 3,
      "metadata": {},
      "outputs": [
        {
          "name": "stdout",
          "output_type": "stream",
          "text": [
            "Requirement already satisfied: requests in c:\\users\\hp\\desktop\\tds_notes_roe\\.venv\\lib\\site-packages (2.32.3)\n",
            "Requirement already satisfied: charset-normalizer<4,>=2 in c:\\users\\hp\\desktop\\tds_notes_roe\\.venv\\lib\\site-packages (from requests) (3.3.2)\n",
            "Requirement already satisfied: idna<4,>=2.5 in c:\\users\\hp\\desktop\\tds_notes_roe\\.venv\\lib\\site-packages (from requests) (3.7)\n",
            "Requirement already satisfied: urllib3<3,>=1.21.1 in c:\\users\\hp\\desktop\\tds_notes_roe\\.venv\\lib\\site-packages (from requests) (2.2.2)\n",
            "Requirement already satisfied: certifi>=2017.4.17 in c:\\users\\hp\\desktop\\tds_notes_roe\\.venv\\lib\\site-packages (from requests) (2024.7.4)\n",
            "Note: you may need to restart the kernel to use updated packages.\n"
          ]
        },
        {
          "name": "stderr",
          "output_type": "stream",
          "text": [
            "\n",
            "[notice] A new release of pip is available: 23.2.1 -> 24.1.2\n",
            "[notice] To update, run: python.exe -m pip install --upgrade pip\n"
          ]
        }
      ],
      "source": [
        "# install in vertual enviornment once required\n",
        "# %pip install requests"
      ]
    },
    {
      "cell_type": "code",
      "execution_count": 4,
      "metadata": {
        "id": "FVSmmYGpCBvc"
      },
      "outputs": [],
      "source": [
        "import requests\n",
        "from urllib.parse import urlencode"
      ]
    },
    {
      "cell_type": "code",
      "execution_count": 9,
      "metadata": {
        "colab": {
          "base_uri": "https://localhost:8080/",
          "height": 53
        },
        "id": "XK0bYqe9DAFs",
        "outputId": "f9cd2057-52d3-4699-f6ff-6f2d369b221c"
      },
      "outputs": [
        {
          "data": {
            "text/plain": [
              "'https://locator-service.api.bbci.co.uk/locations?api_key=AGbFAKx58hyjQScCXIYrxuEwJh2W2cmv&s=New+York&stack=aws&locale=en&filter=international&place-types=settlement%2Cairport%2Cdistrict&order=importance&a=true&format=json'"
            ]
          },
          "execution_count": 9,
          "metadata": {},
          "output_type": "execute_result"
        }
      ],
      "source": [
        "## Input city details in variable test_city\n",
        "test_city = \"New York\"\n",
        "\n",
        "## input city details in variable location_url\n",
        "location_url = 'https://locator-service.api.bbci.co.uk/locations?' + urlencode({\n",
        "   'api_key': 'AGbFAKx58hyjQScCXIYrxuEwJh2W2cmv',\n",
        "   's': test_city,\n",
        "   'stack': 'aws',\n",
        "   'locale': 'en',\n",
        "   'filter': 'international',\n",
        "   'place-types': 'settlement,airport,district',\n",
        "   'order': 'importance',\n",
        "   'a': 'true',\n",
        "   'format': 'json'\n",
        "})\n",
        "location_url"
      ]
    },
    {
      "cell_type": "code",
      "execution_count": 10,
      "metadata": {
        "colab": {
          "base_uri": "https://localhost:8080/"
        },
        "id": "5fXGZdiUDPTs",
        "outputId": "788c126a-8afb-42a5-9d06-e4a8e42e851b"
      },
      "outputs": [
        {
          "data": {
            "text/plain": [
              "{'response': {'results': {'results': [{'id': '5128581',\n",
              "     'name': 'New York',\n",
              "     'container': 'United States',\n",
              "     'containerId': 6252001,\n",
              "     'language': 'en',\n",
              "     'timezone': 'America/New_York',\n",
              "     'country': 'US',\n",
              "     'latitude': 40.71427,\n",
              "     'longitude': -74.00597,\n",
              "     'placeType': 'settlement'},\n",
              "    {'id': '2641508',\n",
              "     'name': 'New York',\n",
              "     'container': 'Lincolnshire',\n",
              "     'containerId': 2644486,\n",
              "     'language': 'en',\n",
              "     'timezone': 'Europe/London',\n",
              "     'country': 'GB',\n",
              "     'latitude': 53.07897,\n",
              "     'longitude': -0.14008,\n",
              "     'placeType': 'settlement',\n",
              "     'topicId': 'cr0mejz7n26t'}],\n",
              "   'totalResults': 2}}}"
            ]
          },
          "execution_count": 10,
          "metadata": {},
          "output_type": "execute_result"
        }
      ],
      "source": [
        "result = requests.get(location_url).json()\n",
        "result"
      ]
    },
    {
      "cell_type": "code",
      "execution_count": 11,
      "metadata": {
        "colab": {
          "base_uri": "https://localhost:8080/",
          "height": 35
        },
        "id": "rXM4oYcwDgzC",
        "outputId": "a2c91405-9705-4b5b-a599-76d468407fbb"
      },
      "outputs": [
        {
          "data": {
            "text/plain": [
              "'5128581'"
            ]
          },
          "execution_count": 11,
          "metadata": {},
          "output_type": "execute_result"
        }
      ],
      "source": [
        "# Print location id\n",
        "result['response']['results']['results'][0]['id']"
      ]
    },
    {
      "cell_type": "markdown",
      "metadata": {
        "id": "z7-r0mgnDrS2"
      },
      "source": [
        "# Creating a function to output location id by taking any city name as input."
      ]
    },
    {
      "cell_type": "code",
      "execution_count": 13,
      "metadata": {
        "id": "JvWzOsPVBhmX"
      },
      "outputs": [],
      "source": [
        "def getlocid(city):\n",
        "    \n",
        "    # convert city name to lowercase to standardize format\n",
        "    city = city.lower()\n",
        "\n",
        "    # Convert into an API call using URL encoding\n",
        "    location_url = 'https://locator-service.api.bbci.co.uk/locations?' + urlencode({\n",
        "      'api_key': 'AGbFAKx58hyjQScCXIYrxuEwJh2W2cmv',\n",
        "      's': city,\n",
        "      'stack': 'aws',\n",
        "      'locale': 'en',\n",
        "      'filter': 'international',\n",
        "      'place-types': 'settlement,airport,district',\n",
        "      'order': 'importance',\n",
        "      'a': 'true',\n",
        "      'format': 'json'\n",
        "    })\n",
        "    result = requests.get(location_url).json()\n",
        "    locid = result['response']['results']['results'][0]['id']\n",
        "    return locid"
      ]
    },
    {
      "cell_type": "code",
      "execution_count": 14,
      "metadata": {
        "colab": {
          "base_uri": "https://localhost:8080/",
          "height": 35
        },
        "id": "KEiuQasXBhal",
        "outputId": "efa78cb5-3feb-4e26-ee98-9cb2c9b2086d"
      },
      "outputs": [
        {
          "name": "stdout",
          "output_type": "stream",
          "text": [
            "Location id of the city Toronto:  6167865\n"
          ]
        }
      ],
      "source": [
        "# Testing the function\n",
        "# Input city name\n",
        "city_name = 'Toronto'\n",
        "print(f\"Location id of the city {city_name}: \", getlocid(city_name))"
      ]
    },
    {
      "cell_type": "markdown",
      "metadata": {
        "id": "-Ti1v88NWig-"
      },
      "source": [
        "This is the first step to getting additional data about a city's weather from the BBC Weather API."
      ]
    }
  ],
  "metadata": {
    "colab": {
      "provenance": []
    },
    "kernelspec": {
      "display_name": "Python 3",
      "language": "python",
      "name": "python3"
    },
    "language_info": {
      "codemirror_mode": {
        "name": "ipython",
        "version": 3
      },
      "file_extension": ".py",
      "mimetype": "text/x-python",
      "name": "python",
      "nbconvert_exporter": "python",
      "pygments_lexer": "ipython3",
      "version": "3.11.5"
    }
  },
  "nbformat": 4,
  "nbformat_minor": 0
}
