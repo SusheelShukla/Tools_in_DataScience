{
 "cells": [
  {
   "cell_type": "markdown",
   "metadata": {},
   "source": [
    "# Week3 Notebook"
   ]
  },
  {
   "cell_type": "markdown",
   "metadata": {},
   "source": [
    "## Data preparation"
   ]
  },
  {
   "cell_type": "markdown",
   "metadata": {},
   "source": [
    "Data preparation is crucial because raw data is rarely perfect.\n",
    "\n",
    "- It often contains errors, inconsistencies, or missing values. For example, marks data may have 'NA' or 'absent' for non-attendees, which you need to handle.\n",
    "\n",
    "- This section teaches you how to clean up data, convert it to different formats, aggregate it if required, and get a feel for the data before you analyze.\n",
    "\n",
    "Here are links used in the video:\n",
    "\n",
    "- [Presentation used in the video](./week3_downloads/IITM-TDS-Prepare-the-Data.pptx)\n",
    "- [Scraping assembly elections - Notebook](./election.ipynb)\n",
    "- [Assembly election results (CSV)](./week3_downloads/assembly.csv)\n",
    "- [pdftotext software](https://www.xpdfreader.com/pdftotext-man.html)\n",
    "- [OpenRefine software](https://openrefine.org/)\n",
    "- [The most persistent party](https://gramener.com/election/parliament#story.ddp)\n",
    "- [TN assembly election cartogram](https://gramener.com/election/cartogram?ST_NAME=Tamil%20Nadu)"
   ]
  },
  {
   "cell_type": "markdown",
   "metadata": {},
   "source": [
    "## Clean up data in Excel"
   ]
  },
  {
   "cell_type": "markdown",
   "metadata": {},
   "source": [
    "You'll learn basic but essential data cleaning techniques in Excel, covering:\n",
    "\n",
    "- **Find and Replace:** Use Ctrl+H to replace or remove specific terms (e.g., removing \"[more]\" from country names).\n",
    "Changing Data Formats: Convert columns from general to numerical format.\n",
    "- **Removing Extra Spaces:** Use the TRIM function to clean up unnecessary spaces in text.\n",
    "- **Identifying and Removing Blank Cells:** Highlight and delete entire rows with blank cells using the \"Go To Special\" function.\n",
    "- **Removing Duplicates:** Use the \"Remove Duplicates\" feature to eliminate duplicate entries, demonstrated with country names.\n",
    "\n",
    "Here are links used in the video:\n",
    "\n",
    "- [List of Largest Cities Excel file](./week3_downloads/excel-cleaning.xlsx)"
   ]
  },
  {
   "cell_type": "markdown",
   "metadata": {},
   "source": [
    "## Data transformation in Excel"
   ]
  },
  {
   "cell_type": "markdown",
   "metadata": {},
   "source": [
    "You'll learn how to transform a single-column data set into multiple, organized columns based on specific delimiters using the \"Text to Columns\" feature.\n",
    "\n",
    "Here are links used in the video:\n",
    "\n",
    "- [US Senate Legislation - Votes](https://www.senate.gov/legislative/votes_new.htm)"
   ]
  },
  {
   "cell_type": "markdown",
   "metadata": {},
   "source": [
    "## Data aggregation in Excel"
   ]
  },
  {
   "cell_type": "markdown",
   "metadata": {},
   "source": [
    "You'll learn data aggregation and visualization techniques in Excel, covering:\n",
    "\n",
    "- **Data Cleanup:** Remove empty columns and rows with missing values.\n",
    "Creating Excel Tables: Convert raw data into tables for easier manipulation and formula application.\n",
    "- **Date Manipulation:** Extract week, month, and year from date columns using Excel functions (WEEKNUM, TEXT).\n",
    "- **Color Scales:** Apply color scales to visualize clusters and trends in data over time.\n",
    "- **Pivot Tables:** Create pivot tables to aggregate data by location and date, summarizing values weekly and monthly.\n",
    "- **Sparklines:** Use sparklines to visualize trends within pivot tables, making data patterns more apparent.\n",
    "- **Data Bars:** Implement data bars for graphical illustrations of numerical columns, showing trends and waves.\n",
    "\n",
    "Here are links used in the video:\n",
    "\n",
    "[COVID-19 data Excel file - raw data](./week3_downloads/covid-data.xlsx)"
   ]
  },
  {
   "cell_type": "markdown",
   "metadata": {},
   "source": [
    "## Data preparation in the shell"
   ]
  },
  {
   "cell_type": "markdown",
   "metadata": {},
   "source": [
    "You'll learn how to use UNIX tools to process and clean data, covering:\n",
    "\n",
    "- `curl` (or `wget`) to fetch data from websites.\n",
    "- `gzip` (or `xz`) to compress and decompress files.\n",
    "- `wc` to count lines, words, and characters in text.\n",
    "- `head` and `tail` to get the start and end of files.\n",
    "- `cut` to extract specific columns from text.\n",
    "- `uniq` to de-duplicate lines.\n",
    "- `sort` to sort lines.\n",
    "- `grep` to filter lines containing specific text.\n",
    "- `sed` to search and replace text.\n",
    "- `awk` for more complex text processing.\n",
    "\n",
    "Here are the links used in the video:\n",
    "\n",
    "- [Data preparation in the shell - Notebook](./data_preparation_in_the_shell.ipynb)\n",
    "- [Data Science at the Command Line](https://jeroenjanssens.com/dsatcl/)"
   ]
  },
  {
   "cell_type": "markdown",
   "metadata": {},
   "source": [
    "## Data preparation in the editor"
   ]
  },
  {
   "cell_type": "markdown",
   "metadata": {},
   "source": [
    "You'll learn how to use a text editor Visual Studio Code to process and clean data, covering:\n",
    "\n",
    "- **Format** JSON files\n",
    "- **Find all** and multiple cursors to extract specific fields\n",
    "- **Sort** lines\n",
    "- **Delete duplicate** lines\n",
    "- **Replace** text with multiple cursors\n",
    "\n",
    "Here are the links used in the video:\n",
    "\n",
    "- [City-wise product sales JSON](./week3_downloads/city-product-sales.json)"
   ]
  },
  {
   "cell_type": "markdown",
   "metadata": {},
   "source": [
    "## Cleaning data with OpenRefine"
   ]
  },
  {
   "cell_type": "markdown",
   "metadata": {},
   "source": [
    "This session covers the use of OpenRefine for data cleaning, focusing on resolving entity discrepancies:\n",
    "\n",
    "- **Data Upload and Project Creation:** Import data into OpenRefine and create a new project for analysis.\n",
    "- **Faceting Data:** Use text facets to group similar entries and identify frequency of address crumbs.\n",
    "- **Clustering Methodology:** Apply clustering algorithms to merge similar entries with minor differences, such as punctuation.\n",
    "- **Manual and Automated Clustering:** Learn to merge clusters manually or in one go, trusting the system's clustering accuracy.\n",
    "- **Entity Resolution:** Clean and save the data by resolving multiple versions of the same entity using Open Refine.\n",
    "\n",
    "Here are links used in the video:\n",
    "\n",
    "[OpenRefine software](https://openrefine.org/)\n",
    "[Dataset for OpenRefine](./week3_downloads/open_refine_input.csv)"
   ]
  },
  {
   "cell_type": "markdown",
   "metadata": {},
   "source": [
    "## Profile data with Python"
   ]
  },
  {
   "cell_type": "markdown",
   "metadata": {},
   "source": [
    "This session covers the use of the pandas_profiling library for generating comprehensive data reports in Python:\n",
    "\n",
    "- **Library Installation and Import:** Learn how to install and import the pandas_profiling library.\n",
    "- **Profile Report Generation:** Generate an HTML report with a single line of code using ProfileReport.\n",
    "- **Descriptive Statistics:** View detailed descriptive statistics such as variance, standard deviation, and kurtosis.\n",
    "- **Outlier Detection:** Identify and analyze outliers within the dataset.\n",
    "- **Correlation Analysis:** Understand how variables are correlated with each other using visual representations.\n",
    "- **Handling Missing Values**: Get insights on missing data and decide on imputation or removal strategies.\n",
    "- **Initial Data Insights:** Use the report to gather early warnings and insights before starting the data cleaning and modeling process.\n",
    "\n",
    "Here are links used in the video:\n",
    "\n",
    "- [Jupyter Notebook](./pandas_profile.ipynb)\n",
    "- [Pandas Profiling output](./week3_downloads/pandas_profiling%20output/pandas-profile-report.html)\n",
    "- Learn about the [pandas_profiling package](https://github.com/ydataai/ydata-profiling). [Video](https://www.youtube.com/watch?v=Ef169VELt5o)\n",
    "- Learn about the [google.colab package](./External_data_Local_Files,_Drive,_Sheets,_and_Cloud_Storage.ipynb)"
   ]
  },
  {
   "cell_type": "markdown",
   "metadata": {},
   "source": [
    "## Optional: Image transformation with pillow\n",
    "\n",
    "-Learn about the [pillow package](https://pypi.org/project/pillow/). Docs. [Video](https://www.youtube.com/watch?v=dkp4wUhCwR4)\n",
    "\n",
    "## Optional: Apache Airflow\n",
    "\n",
    "- Overview of [Apache Airflow](https://airflow.apache.org/docs/apache-airflow/stable/)\n",
    "- [Airflow Playlist](https://www.youtube.com/playlist?list=PL5_c35Deekdm6N1OBHdQm7JZECTdm7zl-)\n",
    "\n",
    "## Reference and helpful content\n",
    "\n",
    "- For those who don't know Excel, [Microsoft's Excel video training](https://support.microsoft.com/en-au/office/excel-video-training-9bc05390-e94c-46af-a5b3-d7c22f6990bb) is a good starting point.\n",
    "- For those who don't know Python, this Learn Python video and this Python for Beginners playlist is a good starting point.(see the week2 links)"
   ]
  }
 ],
 "metadata": {
  "language_info": {
   "name": "python"
  }
 },
 "nbformat": 4,
 "nbformat_minor": 2
}
