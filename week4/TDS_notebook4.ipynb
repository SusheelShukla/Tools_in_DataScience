{
 "cells": [
  {
   "cell_type": "markdown",
   "metadata": {},
   "source": [
    "# Week4 - Correlation and Regression"
   ]
  },
  {
   "cell_type": "markdown",
   "metadata": {},
   "source": [
    "## Model the data"
   ]
  },
  {
   "cell_type": "markdown",
   "metadata": {},
   "source": [
    "Once you've prepared the data, your next task is to analyze it to get insights that are not immediately obvious.\n",
    "\n",
    "In this section, you'll learn how to:\n",
    "\n",
    "- Calculate correlations, regressions, forecasts, and outliers using **spreadsheets**\n",
    "- Aggregate and pivot data using **Python** and **databases**.\n",
    "\n",
    "**NOTE:** This module earlier covered machine learning techniques such as classification and clustering. These are removed in this version."
   ]
  },
  {
   "cell_type": "markdown",
   "metadata": {},
   "source": [
    "## Correlation with Excel"
   ]
  },
  {
   "cell_type": "markdown",
   "metadata": {},
   "source": [
    "You'll learn to calculate and interpret correlations using Excel, covering:\n",
    "\n",
    "- **Enabling the Data Analysis Tool Pack:** Steps to enable the Excel data analysis tool pack.\n",
    "- **Correlation Analysis:** Understanding statistical association between variables.\n",
    "- **Creating a Correlation Matrix:** Steps to generate and interpret a correlation matrix.\n",
    "- **Scatterplots and Trendlines:** Plotting data and adding trend lines to visualize correlations.\n",
    "- **Analyzing Results:** Comparing correlation coefficients and understanding their implications.\n",
    "- **Insights and Further Analysis:** Interpreting scatterplots and planning further analysis for deeper insights.\n",
    "\n",
    "Here are the links used in the video:\n",
    "\n",
    "- [Understand correlation](https://www.khanacademy.org/math/ap-statistics/bivariate-data-ap/correlation-coefficient-r/v/correlation-coefficient-intuition-examples)\n",
    "- [COVID-19 vaccinations data explorer - Website](https://ourworldindata.org/covid-vaccinations?country=OWID_WRL)\n",
    "- [COVID-19 vaccinations - Correlations Excel file](./week4_downloads/Correlation_2.xlsx)"
   ]
  },
  {
   "cell_type": "markdown",
   "metadata": {},
   "source": [
    "## Regression with Excel"
   ]
  },
  {
   "cell_type": "markdown",
   "metadata": {},
   "source": [
    "You'll learn to perform regression analysis using Excel, covering:\n",
    "\n",
    "- **Data Preparation:** Understanding the cleaned dataset and necessary columns for analysis.\n",
    "- **Enabling the Tool:** How to enable the Data Analysis Tool Pack in Excel.\n",
    "- **Types of Regression:** Differences between simple and multiple linear regression.\n",
    "- **Setting Up Regression:** Steps to input dependent (new deaths) and independent variables (new cases, new tests, new vaccinations, stringency index) for the analysis.\n",
    "- **Interpreting Output:** Reading the regression output, focusing on adjusted R-squared, significance value (F-test), and P-values.\n",
    "- **Coefficient Interpretation:** Understanding the impact of each independent variable on the dependent variable, including scaling factors (per 1000 units).\n",
    "- **Model Evaluation:** Evaluating the model based on significance values and understanding the implications of unexpected results (e.g., stringency index).\n",
    "- **Further Analysis:** Recognizing the need for additional analysis when encountering unexpected or inconclusive results.\n",
    "\n",
    "Here are the links used in the video:\n",
    "\n",
    "- [Understand regression](https://www.khanacademy.org/math/ap-statistics/bivariate-data-ap/least-squares-regression/v/calculating-the-equation-of-a-regression-line)\n",
    "- [COVID-19 vaccinations - Regression Excel file](./week4_downloads/Regression.xlsx)\n",
    "-[COVID-19 vaccinations - Regression Model 2 Excel file](./week4_downloads/Regression_3.xlsx)"
   ]
  },
  {
   "cell_type": "markdown",
   "metadata": {},
   "source": [
    "## Forecasting with Excel"
   ]
  },
  {
   "cell_type": "markdown",
   "metadata": {},
   "source": [
    "Here are links used in the video:\n",
    "\n",
    "- [FORECAST reference](https://support.microsoft.com/en-us/office/forecast-and-forecast-linear-functions-50ca49c9-7b40-4892-94e4-7ad38bbeda99)\n",
    "- [FORECAST.ETS reference](https://support.microsoft.com/en-us/office/forecast-ets-forecasting-technique-9d6b3e4b-6b6c-4d4d-8b7e-9e7a9b5b6a0e)\n",
    "- [Height-weight dataset](./week4_downloads/height-weight.xlsx) from [Kaggle](https://www.kaggle.com/datasets/burnoutminer/heights-and-weights-dataset)\n",
    "- [Traffic dataset](./week4_downloads/traffic.xlsx) from [Kaggle](https://www.kaggle.com/datasets/fedesoriano/traffic-prediction-dataset)"
   ]
  },
  {
   "cell_type": "markdown",
   "metadata": {},
   "source": [
    "## Outlier detection with Excel"
   ]
  },
  {
   "cell_type": "markdown",
   "metadata": {},
   "source": [
    "You'll learn how to identify and handle outliers in data using Excel, covering:\n",
    "\n",
    "- **Understanding Outliers:** Definition of outliers and their impact on statistical analysis.\n",
    "- **Calculating Quartiles:** Using Excel formulas to calculate Q1 (first quartile) and Q3 (third quartile).\n",
    "- **Interquartile Range (IQR):** Finding the IQR by subtracting Q1 from Q3.\n",
    "- **Determining Bounds:** Calculating lower and upper bounds using 1.5 times the IQR.\n",
    "- **Identifying Outliers:** Using Excel functions to determine if data points fall outside the calculated bounds.\n",
    "- **Visualizing Data:** Creating box plots to visualize outliers and data distribution.\n",
    "- **Handling Outliers:** Deciding whether to exclude or keep outliers based on their impact on analysis.\n",
    "\n",
    "Here are the links used in the video:\n",
    "\n",
    "- [Understand distributions and outliers](https://www.khanacademy.org/math/ap-statistics/quantitative-data-ap/xfb5d8e68:describing-distribution-quant/v/classifying-distributions-and-outliers)\n",
    "- [COVID-19 vaccinations data - Excel](./week4_downloads/correlation2.xlsx)"
   ]
  },
  {
   "cell_type": "markdown",
   "metadata": {},
   "source": [
    "## Data analysis with Python"
   ]
  },
  {
   "cell_type": "markdown",
   "metadata": {},
   "source": [
    "The video is not available yet. Please review the notebook, which is self-explanatory. #TODO\n",
    "\n",
    "You'll learn practical data analysis techniques in Python using Pandas, covering:\n",
    "\n",
    "- **Reading Parquet Files:** Utilize Pandas to read Parquet file formats for efficient data handling.\n",
    "- **Dataframe Inspection:** Methods to preview and understand the structure of a dataset.\n",
    "- **Pivot Tables:** Creating and interpreting pivot tables to summarize data.\n",
    "- **Percentage Calculations:** Normalize pivot table values to percentages for better insights.\n",
    "- **Correlation Analysis:** Calculate and interpret correlation between variables, including significance testing.\n",
    "Statistical Significance: Use statistical tests to determine the significance of observed correlations.\n",
    "- **Datetime Handling:** Extract and manipulate date and time information from datetime columns.\n",
    "- **Data Visualization:** Generate and customize heat maps to visualize data patterns effectively.\n",
    "- **Leveraging AI:** Use ChatGPT to generate and refine analytical code, enhancing productivity and accuracy.\n",
    "\n",
    "Here are the links used in the video:\n",
    "\n",
    "- [Data analysis with Python - Notebook]()\n",
    "- [Card transactions dataset (Parquet)](./week4_downloads/card-transactions.parquet)\n",
    "- [10 minutes to Pandas](https://pandas.pydata.org/pandas-docs/stable/user_guide/10min.html)\n",
    "- [Python Pandas tutorials](https://www.youtube.com/playlist?list=PL-osiE80TeTsWmV9i9c58mdDCSskIFdDS)"
   ]
  },
  {
   "cell_type": "markdown",
   "metadata": {},
   "source": [
    "## Data analysis with databases"
   ]
  },
  {
   "cell_type": "markdown",
   "metadata": {},
   "source": [
    "The video is not available yet. Please review the notebook, which is self-explanatory. #TODO\n",
    "\n",
    "You'll learn how to perform data analysis using SQL (via Python), covering:\n",
    "\n",
    "- **Database Connection:** How to connect to a MySQL database using SQLAlchemy and Pandas.\n",
    "- **SQL Queries:** Execute SQL queries directly from a Python environment to retrieve and analyze data.\n",
    "- **Counting Rows:** Use SQL to count the number of rows in a table.\n",
    "User Activity Analysis: Query and identify top users by post count.\n",
    "- **Post Concentration:** Determine if a small percentage of users contribute the majority of posts using SQL aggregation.\n",
    "- **Correlation Calculation:** Calculate the Pearson correlation coefficient between user attributes such as age and reputation.\n",
    "- **Regression Analysis:** Compute the regression slope to understand the relationship between views and reputation.\n",
    "- **Handling Large Data:** Perform calculations on large datasets by fetching aggregated values from the database rather than entire datasets.\n",
    "- **Statistical Analysis in SQL:** Use SQL as a tool for statistical analysis, demonstrating its power beyond simple data retrieval.\n",
    "- **Leveraging AI:** Use ChatGPT to generate SQL queries and Python code, enhancing productivity and accuracy.\n",
    "\n",
    "Here are the links used in the video:\n",
    "\n",
    "- [Data analysis with databases - Notebook](./data_analysis_with_databases.ipynb)\n",
    "- [SQLZoo](https://www.sqlzoo.net/wiki/SQL_Tutorial) has [simple interactive tutorials to learn SQL](https://relational-data.org/dataset/Stats)\n",
    "- [Stats database](https://stats.stackexchange.com/) that has an anonymized dump of stats.stackexchange.com\n",
    "- [Pandas read_sql](https://pandas.pydata.org/docs/reference/api/pandas.read_sql.html) \n",
    "- [SQLAlchemy docs](https://docs.sqlalchemy.org/en/20/)"
   ]
  },
  {
   "cell_type": "markdown",
   "metadata": {},
   "source": [
    "## Optional: Visualizing Machine Learning"
   ]
  },
  {
   "cell_type": "markdown",
   "metadata": {},
   "source": [
    "You'll learn about improving customer retention, understanding black box models, and using clustering for market segmentation:\n",
    "\n",
    "- **Churn Reduction**: Use decision trees to identify customers likely to leave.\n",
    "- **Cost Efficiency:** Compare customer acquisition vs. retention costs.\n",
    "- **Model Improvement:** Apply SVMs and neural networks for better accuracy.\n",
    "- **Project Challenges:** Understand issues with black box models in implementation.\n",
    "- **K-Means Clustering:** Segment markets using demographic data.\n",
    "- **Data Visualization:** Interpret clustering results using maps and charts.\n",
    "- **Correlation Analysis:** Identify relationships between currency exchange rates.\n",
    "- **Tool Proficiency:** Utilize Excel, Python, and JavaScript for analysis and communication.\n",
    "- **Practical Application:** Tailor marketing strategies based on cluster characteristics.\n",
    "\n",
    "Here are the links used in the video:\n",
    "\n",
    "- [Visualizing-Forecast-Models.xlsx](./week4_downloads/Visualising-Forecast-Models.xlsx) - the spreadsheet used in the video"
   ]
  }
 ],
 "metadata": {
  "language_info": {
   "name": "python"
  }
 },
 "nbformat": 4,
 "nbformat_minor": 2
}
